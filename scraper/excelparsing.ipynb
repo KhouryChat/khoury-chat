{
 "cells": [
  {
   "cell_type": "code",
   "execution_count": 37,
   "metadata": {},
   "outputs": [],
   "source": [
    "import pandas as pd"
   ]
  },
  {
   "cell_type": "code",
   "execution_count": 38,
   "metadata": {},
   "outputs": [],
   "source": [
    "xls = pd.ExcelFile(\"sample.xls\")\n",
    "df = pd.read_excel(xls, \"Evaluations Summary\")\n",
    "df2 = pd.read_excel(xls, \"All Responses\")"
   ]
  },
  {
   "cell_type": "code",
   "execution_count": 39,
   "metadata": {},
   "outputs": [
    {
     "data": {
      "text/html": [
       "<div>\n",
       "<style scoped>\n",
       "    .dataframe tbody tr th:only-of-type {\n",
       "        vertical-align: middle;\n",
       "    }\n",
       "\n",
       "    .dataframe tbody tr th {\n",
       "        vertical-align: top;\n",
       "    }\n",
       "\n",
       "    .dataframe thead th {\n",
       "        text-align: right;\n",
       "    }\n",
       "</style>\n",
       "<table border=\"1\" class=\"dataframe\">\n",
       "  <thead>\n",
       "    <tr style=\"text-align: right;\">\n",
       "      <th></th>\n",
       "      <th>Northeastern University Online Course Evaluations Course Evaluations Fall 2022</th>\n",
       "      <th>Unnamed: 1</th>\n",
       "      <th>Unnamed: 2</th>\n",
       "      <th>Unnamed: 3</th>\n",
       "      <th>Unnamed: 4</th>\n",
       "      <th>Unnamed: 5</th>\n",
       "      <th>Unnamed: 6</th>\n",
       "      <th>Unnamed: 7</th>\n",
       "      <th>Unnamed: 8</th>\n",
       "      <th>Unnamed: 9</th>\n",
       "      <th>Unnamed: 10</th>\n",
       "    </tr>\n",
       "  </thead>\n",
       "  <tbody>\n",
       "    <tr>\n",
       "      <th>0</th>\n",
       "      <td>NaN</td>\n",
       "      <td>NaN</td>\n",
       "      <td>NaN</td>\n",
       "      <td>NaN</td>\n",
       "      <td>NaN</td>\n",
       "      <td>NaN</td>\n",
       "      <td>NaN</td>\n",
       "      <td>NaN</td>\n",
       "      <td>NaN</td>\n",
       "      <td>NaN</td>\n",
       "      <td>NaN</td>\n",
       "    </tr>\n",
       "    <tr>\n",
       "      <th>1</th>\n",
       "      <td>CS 2800 Logic and Computation, Section 01</td>\n",
       "      <td>NaN</td>\n",
       "      <td>NaN</td>\n",
       "      <td>NaN</td>\n",
       "      <td>NaN</td>\n",
       "      <td>NaN</td>\n",
       "      <td>NaN</td>\n",
       "      <td>NaN</td>\n",
       "      <td>NaN</td>\n",
       "      <td>NaN</td>\n",
       "      <td>NaN</td>\n",
       "    </tr>\n",
       "    <tr>\n",
       "      <th>2</th>\n",
       "      <td>Stavros Trypakis</td>\n",
       "      <td>NaN</td>\n",
       "      <td>NaN</td>\n",
       "      <td>NaN</td>\n",
       "      <td>NaN</td>\n",
       "      <td>NaN</td>\n",
       "      <td>NaN</td>\n",
       "      <td>NaN</td>\n",
       "      <td>NaN</td>\n",
       "      <td>NaN</td>\n",
       "      <td>NaN</td>\n",
       "    </tr>\n",
       "    <tr>\n",
       "      <th>3</th>\n",
       "      <td>Course Reference Number:</td>\n",
       "      <td>NaN</td>\n",
       "      <td>NaN</td>\n",
       "      <td>NaN</td>\n",
       "      <td>NaN</td>\n",
       "      <td>NaN</td>\n",
       "      <td>NaN</td>\n",
       "      <td>NaN</td>\n",
       "      <td>NaN</td>\n",
       "      <td>NaN</td>\n",
       "      <td>NaN</td>\n",
       "    </tr>\n",
       "    <tr>\n",
       "      <th>4</th>\n",
       "      <td>Enrollment:</td>\n",
       "      <td>49</td>\n",
       "      <td>NaN</td>\n",
       "      <td>NaN</td>\n",
       "      <td>NaN</td>\n",
       "      <td>NaN</td>\n",
       "      <td>NaN</td>\n",
       "      <td>NaN</td>\n",
       "      <td>NaN</td>\n",
       "      <td>NaN</td>\n",
       "      <td>NaN</td>\n",
       "    </tr>\n",
       "  </tbody>\n",
       "</table>\n",
       "</div>"
      ],
      "text/plain": [
       "  Northeastern University Online Course Evaluations Course Evaluations Fall 2022  \\\n",
       "0                                                NaN                               \n",
       "1          CS 2800 Logic and Computation, Section 01                               \n",
       "2                                   Stavros Trypakis                               \n",
       "3                           Course Reference Number:                               \n",
       "4                                        Enrollment:                               \n",
       "\n",
       "  Unnamed: 1 Unnamed: 2 Unnamed: 3 Unnamed: 4 Unnamed: 5 Unnamed: 6  \\\n",
       "0        NaN        NaN        NaN        NaN        NaN        NaN   \n",
       "1        NaN        NaN        NaN        NaN        NaN        NaN   \n",
       "2        NaN        NaN        NaN        NaN        NaN        NaN   \n",
       "3        NaN        NaN        NaN        NaN        NaN        NaN   \n",
       "4         49        NaN        NaN        NaN        NaN        NaN   \n",
       "\n",
       "  Unnamed: 7 Unnamed: 8 Unnamed: 9 Unnamed: 10  \n",
       "0        NaN        NaN        NaN         NaN  \n",
       "1        NaN        NaN        NaN         NaN  \n",
       "2        NaN        NaN        NaN         NaN  \n",
       "3        NaN        NaN        NaN         NaN  \n",
       "4        NaN        NaN        NaN         NaN  "
      ]
     },
     "execution_count": 39,
     "metadata": {},
     "output_type": "execute_result"
    }
   ],
   "source": [
    "df.head()"
   ]
  },
  {
   "cell_type": "code",
   "execution_count": 40,
   "metadata": {},
   "outputs": [],
   "source": [
    "course = df[\"Northeastern University Online Course Evaluations Course Evaluations Fall 2022\"][1].split(\" \")\n",
    "professor = df[\"Northeastern University Online Course Evaluations Course Evaluations Fall 2022\"][2]"
   ]
  },
  {
   "cell_type": "code",
   "execution_count": 41,
   "metadata": {},
   "outputs": [
    {
     "data": {
      "text/plain": [
       "('Logic and Computation', 'CS 2800')"
      ]
     },
     "execution_count": 41,
     "metadata": {},
     "output_type": "execute_result"
    }
   ],
   "source": [
    "courseID = course[0] + \" \" + course[1]\n",
    "courseName = ' '.join(course[2:-2])[:-1]\n",
    "courseName, courseID"
   ]
  },
  {
   "cell_type": "code",
   "execution_count": 42,
   "metadata": {},
   "outputs": [],
   "source": [
    "enrollment = df[\"Unnamed: 1\"][4]\n",
    "completed = df[\"Unnamed: 1\"][5]\n"
   ]
  },
  {
   "cell_type": "code",
   "execution_count": 43,
   "metadata": {},
   "outputs": [
    {
     "data": {
      "text/plain": [
       "{'Online course materials': 3.9170000553131104,\n",
       " 'Online Interactions': 2.4170000553131104,\n",
       " 'Sense of community': 2.75,\n",
       " 'Computer skills': 3.5829999446868896,\n",
       " 'Syllabus': 4.333000183105469,\n",
       " 'Course Materials': 4.333000183105469,\n",
       " 'In-class Sessions': 4.083000183105469,\n",
       " 'Out-of-class': 4.333000183105469,\n",
       " 'Challenging': 4.333000183105469,\n",
       " 'Learned a lot': 4,\n",
       " 'Prepared': 4.75,\n",
       " 'Effective time': 4.666999816894531,\n",
       " 'Clear communication': 4.416999816894531,\n",
       " 'Feedback': 4.416999816894531,\n",
       " 'Enthusiasm': 4.833000183105469,\n",
       " 'Overall rating of teaching': 4.416999816894531}"
      ]
     },
     "execution_count": 43,
     "metadata": {},
     "output_type": "execute_result"
    }
   ],
   "source": [
    "ratingInfo = df[\"Northeastern University Online Course Evaluations Course Evaluations Fall 2022\"]\n",
    "meanCol1 = df[\"Unnamed: 6\"]\n",
    "meanCol2 = df[\"Unnamed: 7\"]\n",
    "ratings = {}\n",
    "for i in range(10, 31):\n",
    "    if i in [14, 25, 26, 27, 29]: continue\n",
    "    if i < 14:\n",
    "        ratings[ratingInfo[i]] = meanCol2[i]\n",
    "    else:\n",
    "        ratings[ratingInfo[i]] = meanCol1[i]\n",
    "ratings"
   ]
  },
  {
   "cell_type": "code",
   "execution_count": null,
   "metadata": {},
   "outputs": [],
   "source": []
  },
  {
   "cell_type": "code",
   "execution_count": 66,
   "metadata": {},
   "outputs": [],
   "source": [
    "QUESTION_MAP = {\n",
    "    'nan': 'unused',\n",
    " 'The syllabus was accurate and helpful in delineating expectations and course outcomes.': 'syllabus',\n",
    " 'Required and additional course materials were helpful in achieving course outcomes.': 'course-material',\n",
    " 'In-class sessions were helpful for learning.': 'in-class',\n",
    " 'Out-of-class assignments and/or fieldwork were helpful for learning.': 'assignments',\n",
    " 'This course was intellectually challenging.': 'challenging',\n",
    " 'I learned a lot in this course.': 'learning',\n",
    " 'The instructor came to class prepared to teach.': 'prepared',\n",
    " 'The instructor used class time effectively.': 'efficient',\n",
    " 'The instructor clearly communicated ideas and information.': 'communication',\n",
    " 'The instructor provided sufficient feedback.': 'feedback',\n",
    " 'The instructor fairly evaluated my performance.': 'fair',\n",
    " 'The instructor was available to assist students outside of class.': 'out-class',\n",
    " 'The instructor facilitated a respectful and inclusive learning environment.': 'inclusive',\n",
    " 'The instructor displayed enthusiasm for the course.': 'enthusiasm',\n",
    " \"What is your overall rating of this instructor's teaching effectiveness?\": 'overall',\n",
    " 'Online course materials were organized to help me navigate through the course week by week.': 'online-material',\n",
    " 'Online interactions with my instructor created a sense of connection in the virtual classroom.': 'interaction',\n",
    " 'Online course interactions created a sense of community and connection to my classmates.': 'community',\n",
    " 'I had the necessary computer skills and technology to successfully complete the course.': 'computer-skills',\n",
    " 'How often did you attend this class both in-person and remotely?': 'attend',\n",
    " 'The number of hours per week I devoted to this course outside scheduled class meeting times.': 'hours'}"
   ]
  },
  {
   "cell_type": "code",
   "execution_count": 94,
   "metadata": {},
   "outputs": [
    {
     "data": {
      "text/plain": [
       "{'syllabus': [5, 5, 4, 4, 3, 4, 4, 5, 5, 5, 3, 5],\n",
       " 'course-material': [5, 5, 4, 4, 4, 3, 4, 5, 5, 5, 3, 5],\n",
       " 'in-class': [4, 5, 4, 4, 4, 2, 4, 4, 5, 5, 3, 5],\n",
       " 'assignments': [5, 5, 4, 4, 4, 5, 4, 5, 5, 5, 1, 5],\n",
       " 'challenging': [4, 5, 4, 3, 4, 4, 5, 4, 5, 5, 4, 5],\n",
       " 'learning': [5, 5, 4, 3, 3, 4, 4, 4, 5, 5, 1, 5],\n",
       " 'prepared': [5, 5, 4, 5, 5, 5, 4, 5, 5, 5, 4, 5],\n",
       " 'efficient': [5, 5, 4, 5, 5, 5, 4, 4, 5, 5, 4, 5],\n",
       " 'communication': [5, 5, 4, 5, 4, 3, 4, 4, 5, 5, 4, 5],\n",
       " 'feedback': [5, 5, 4, 5, 4, 4, 3, 4, 5, 5, 4, 5],\n",
       " 'fair': [5, 5, 4, 5, 4, 4, 4, 5, 5, 5, 4, 5],\n",
       " 'out-class': [3, 5, 4, 5, 4, 5, 4, 5, 5, 5, 4, 5],\n",
       " 'inclusive': [5, 5, 4, 5, 5, 5, 4, 5, 5, 5, 4, 5],\n",
       " 'enthusiasm': [5, 5, 4, 5, 5, 5, 4, 5, 5, 5, 5, 5],\n",
       " 'overall': [5, 5, 4, 5, 4, 5, 5, 4, 3, 4, 4, 5],\n",
       " 'online-material': [4, 0, 4, 5, 3, 4, 4, 4, 5, 5, 4, 5],\n",
       " 'interaction': [0, 0, 4, 3, 4, 3, 0, 0, 5, 5, 0, 5],\n",
       " 'community': [5, 0, 4, 4, 3, 2, 0, 0, 5, 5, 0, 5],\n",
       " 'computer-skills': [5, 0, 4, 5, 5, 4, 0, 5, 5, 5, 0, 5],\n",
       " 'attend': [5, 5, 4, 5, 5, 5, 5, 5, 4, 5, 5, 5],\n",
       " 'hours': []}"
      ]
     },
     "execution_count": 94,
     "metadata": {},
     "output_type": "execute_result"
    }
   ],
   "source": [
    "first = df2[\"Northeastern University Online Course Evaluations Course Evaluations Fall 2022\"]\n",
    "all_ratings = {}\n",
    "for each in df2.iloc[8]:\n",
    "    if isinstance(each, str):\n",
    "        all_ratings[QUESTION_MAP[each]] = []\n",
    "\n",
    "for i in range(9, len(first)):\n",
    "    j = 1\n",
    "    for k in range(1, len(df2.iloc[i][1:])):\n",
    "        all_ratings[QUESTION_MAP[df2.iloc[8][j]]].append(df2.iloc[i][k])\n",
    "        j += 1\n",
    "all_ratings \n",
    "    "
   ]
  },
  {
   "cell_type": "code",
   "execution_count": null,
   "metadata": {},
   "outputs": [],
   "source": []
  },
  {
   "cell_type": "code",
   "execution_count": null,
   "metadata": {},
   "outputs": [],
   "source": []
  }
 ],
 "metadata": {
  "kernelspec": {
   "display_name": "Python 3",
   "language": "python",
   "name": "python3"
  },
  "language_info": {
   "codemirror_mode": {
    "name": "ipython",
    "version": 3
   },
   "file_extension": ".py",
   "mimetype": "text/x-python",
   "name": "python",
   "nbconvert_exporter": "python",
   "pygments_lexer": "ipython3",
   "version": "3.11.2"
  },
  "orig_nbformat": 4
 },
 "nbformat": 4,
 "nbformat_minor": 2
}
